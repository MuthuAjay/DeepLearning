{
 "cells": [
  {
   "cell_type": "markdown",
   "metadata": {},
   "source": [
    "# 1. Create a PyTorch tensor of shape (4, 5, 6) and print its shape.\n"
   ]
  },
  {
   "cell_type": "code",
   "execution_count": 2,
   "metadata": {},
   "outputs": [
    {
     "name": "stdout",
     "output_type": "stream",
     "text": [
      "torch.Size([4, 5, 6])\n"
     ]
    }
   ],
   "source": [
    "import torch \n",
    "\n",
    "x = torch.randn(4, 5, 6)\n",
    "print(x.shape)"
   ]
  },
  {
   "cell_type": "code",
   "execution_count": 3,
   "metadata": {},
   "outputs": [
    {
     "data": {
      "text/plain": [
       "tensor([[[ 0.5424, -0.2931, -0.8021,  0.5595, -1.1227,  0.0396],\n",
       "         [-0.9587, -1.5957, -0.6255,  1.4483,  0.5464,  0.4696],\n",
       "         [-0.2321,  0.7796, -0.7689, -1.1717,  1.0971, -0.5971],\n",
       "         [-0.5979, -0.0941, -1.0825, -1.2903, -0.9445, -1.4213],\n",
       "         [-0.4206,  0.6984,  0.6119,  0.2494, -0.5277,  0.5165]],\n",
       "\n",
       "        [[ 0.6071, -0.8841,  0.3592, -0.6317,  0.3466,  0.3778],\n",
       "         [ 0.3620, -0.9219,  0.5255,  0.2668,  0.1373,  0.0113],\n",
       "         [-0.0655, -0.2892,  0.1604,  1.2970,  0.1647, -0.3927],\n",
       "         [-0.2085,  0.4432,  0.4142,  0.1113,  0.3335, -0.6126],\n",
       "         [-0.3825,  0.2960, -0.7009,  0.3475, -0.3747,  0.8803]],\n",
       "\n",
       "        [[-1.0224, -0.1385, -3.3821, -0.4973,  2.1513,  0.8874],\n",
       "         [-1.0507, -0.0216, -0.1224,  1.0162,  1.0195, -0.0670],\n",
       "         [-1.0843, -0.7465, -0.4270, -0.0827, -2.0698, -0.1592],\n",
       "         [-1.1024,  0.8638,  1.7990, -0.7687, -0.7379,  0.0252],\n",
       "         [-1.0005, -0.3499,  0.0342, -0.3889,  0.6558, -0.0660]],\n",
       "\n",
       "        [[-0.3118,  0.7120,  0.9377, -0.5563, -0.9481, -0.6987],\n",
       "         [ 1.5544,  0.3186,  1.4364,  0.4495, -0.5098, -0.9747],\n",
       "         [-0.2181, -0.5681, -0.9732, -0.1254,  1.2313,  0.1797],\n",
       "         [-1.3447, -0.7797,  0.9813,  1.6471,  0.3914,  0.2384],\n",
       "         [-0.2275,  1.6219, -0.5223, -0.7271, -1.3582, -0.4520]]])"
      ]
     },
     "execution_count": 3,
     "metadata": {},
     "output_type": "execute_result"
    }
   ],
   "source": [
    "x"
   ]
  },
  {
   "cell_type": "code",
   "execution_count": 5,
   "metadata": {},
   "outputs": [
    {
     "data": {
      "text/plain": [
       "tensor([[0.8700, 0.2121, 0.0152],\n",
       "        [0.9494, 0.7914, 0.4058]])"
      ]
     },
     "execution_count": 5,
     "metadata": {},
     "output_type": "execute_result"
    }
   ],
   "source": [
    "torch.rand(torch.Size([2, 3]))"
   ]
  },
  {
   "cell_type": "markdown",
   "metadata": {},
   "source": [
    "# 2. Convert a (6, 6) tensor into a 1D tensor and print its new shape."
   ]
  },
  {
   "cell_type": "code",
   "execution_count": 8,
   "metadata": {},
   "outputs": [
    {
     "data": {
      "text/plain": [
       "tensor([[0.2968, 0.2823, 0.0382, 0.8574, 0.8279, 0.6397],\n",
       "        [0.5217, 0.6609, 0.5673, 0.0543, 0.6257, 0.0629],\n",
       "        [0.8049, 0.9633, 0.4230, 0.4368, 0.4029, 0.1160],\n",
       "        [0.7128, 0.9143, 0.3205, 0.9649, 0.8933, 0.1573],\n",
       "        [0.1593, 0.2516, 0.8897, 0.5905, 0.8879, 0.8081],\n",
       "        [0.8628, 0.9912, 0.5598, 0.2070, 0.4357, 0.2252]])"
      ]
     },
     "execution_count": 8,
     "metadata": {},
     "output_type": "execute_result"
    }
   ],
   "source": [
    "x = torch.rand(6,6)\n",
    "x"
   ]
  },
  {
   "cell_type": "code",
   "execution_count": 10,
   "metadata": {},
   "outputs": [
    {
     "data": {
      "text/plain": [
       "torch.Size([36])"
      ]
     },
     "execution_count": 10,
     "metadata": {},
     "output_type": "execute_result"
    }
   ],
   "source": [
    "x.flatten().shape"
   ]
  },
  {
   "cell_type": "markdown",
   "metadata": {},
   "source": [
    "# 3. Given a tensor A of shape (10,), use .unsqueeze() to make it:\n",
    "A 2D tensor with shape (1, 10)\n",
    "A 2D tensor with shape (10, 1)"
   ]
  },
  {
   "cell_type": "code",
   "execution_count": 11,
   "metadata": {},
   "outputs": [
    {
     "data": {
      "text/plain": [
       "torch.Size([10])"
      ]
     },
     "execution_count": 11,
     "metadata": {},
     "output_type": "execute_result"
    }
   ],
   "source": [
    "a = torch.arange(10)\n",
    "a.shape"
   ]
  },
  {
   "cell_type": "code",
   "execution_count": 12,
   "metadata": {},
   "outputs": [
    {
     "data": {
      "text/plain": [
       "tensor([0, 1, 2, 3, 4, 5, 6, 7, 8, 9])"
      ]
     },
     "execution_count": 12,
     "metadata": {},
     "output_type": "execute_result"
    }
   ],
   "source": [
    "a"
   ]
  },
  {
   "cell_type": "code",
   "execution_count": 14,
   "metadata": {},
   "outputs": [
    {
     "data": {
      "text/plain": [
       "(torch.Size([1, 10]), torch.Size([10, 1]), torch.Size([10, 1]))"
      ]
     },
     "execution_count": 14,
     "metadata": {},
     "output_type": "execute_result"
    }
   ],
   "source": [
    "a.unsqueeze(0).shape, a.unsqueeze(1).shape , a.unsqueeze(-1).shape"
   ]
  },
  {
   "cell_type": "markdown",
   "metadata": {},
   "source": [
    "#  4. Given a tensor of shape (1, 3, 1, 5), remove all dimensions of size 1 using .squeeze()"
   ]
  },
  {
   "cell_type": "code",
   "execution_count": 16,
   "metadata": {},
   "outputs": [
    {
     "data": {
      "text/plain": [
       "torch.Size([3, 5])"
      ]
     },
     "execution_count": 16,
     "metadata": {},
     "output_type": "execute_result"
    }
   ],
   "source": [
    "# Given a tensor of shape (1, 3, 1, 5)\n",
    "\n",
    "x = torch.rand(1, 3, 1, 5)\n",
    "\n",
    "x.squeeze(dim=0).squeeze(dim=1).shape "
   ]
  },
  {
   "cell_type": "code",
   "execution_count": 17,
   "metadata": {},
   "outputs": [
    {
     "data": {
      "text/plain": [
       "torch.Size([3, 5])"
      ]
     },
     "execution_count": 17,
     "metadata": {},
     "output_type": "execute_result"
    }
   ],
   "source": [
    "# Given a tensor of shape (1, 3, 1, 5), remove all dimensions of size 1 using .squeeze().\n",
    "\n",
    "x = torch.rand(1, 3, 1, 5)\n",
    "x.squeeze().shape"
   ]
  },
  {
   "cell_type": "markdown",
   "metadata": {},
   "source": [
    "# 5. Swap the last two dimensions of a tensor with shape (3, 4, 5)"
   ]
  },
  {
   "cell_type": "code",
   "execution_count": 18,
   "metadata": {},
   "outputs": [
    {
     "data": {
      "text/plain": [
       "torch.Size([3, 5, 4])"
      ]
     },
     "execution_count": 18,
     "metadata": {},
     "output_type": "execute_result"
    }
   ],
   "source": [
    "x = torch.rand(3,4,5)\n",
    "\n",
    "x.permute(0,2,1).shape"
   ]
  },
  {
   "cell_type": "markdown",
   "metadata": {},
   "source": [
    "# 6. Transpose a tensor of shape (5, 3) into (3, 5)."
   ]
  },
  {
   "cell_type": "code",
   "execution_count": 19,
   "metadata": {},
   "outputs": [
    {
     "data": {
      "text/plain": [
       "torch.Size([3, 5])"
      ]
     },
     "execution_count": 19,
     "metadata": {},
     "output_type": "execute_result"
    }
   ],
   "source": [
    "x = torch.rand(5,3)\n",
    "\n",
    "x.t().shape"
   ]
  },
  {
   "cell_type": "markdown",
   "metadata": {},
   "source": [
    "# 7. Create a batch of 8 images, where each image has 3 color channels and a height & width of (32, 32). What will be the shape?"
   ]
  },
  {
   "cell_type": "code",
   "execution_count": 20,
   "metadata": {},
   "outputs": [
    {
     "data": {
      "text/plain": [
       "torch.Size([8, 3, 32, 32])"
      ]
     },
     "execution_count": 20,
     "metadata": {},
     "output_type": "execute_result"
    }
   ],
   "source": [
    "height = 32\n",
    "width = 32\n",
    "channels = 3\n",
    "batch_size = 8\n",
    "\n",
    "x = torch.rand(batch_size, channels, height, width)\n",
    "\n",
    "x.shape"
   ]
  },
  {
   "cell_type": "markdown",
   "metadata": {},
   "source": [
    "# 8. Reshape a tensor of shape (4, 5, 6) into shape (20, 6)."
   ]
  },
  {
   "cell_type": "code",
   "execution_count": 21,
   "metadata": {},
   "outputs": [
    {
     "data": {
      "text/plain": [
       "torch.Size([20, 6])"
      ]
     },
     "execution_count": 21,
     "metadata": {},
     "output_type": "execute_result"
    }
   ],
   "source": [
    "x = torch.randn(4, 5, 6)\n",
    "\n",
    "x.view(-1, 6).shape"
   ]
  },
  {
   "cell_type": "code",
   "execution_count": 22,
   "metadata": {},
   "outputs": [
    {
     "data": {
      "text/plain": [
       "torch.Size([20, 6])"
      ]
     },
     "execution_count": 22,
     "metadata": {},
     "output_type": "execute_result"
    }
   ],
   "source": [
    "# now using reshape\n",
    "x = torch.randn(4, 5, 6)\n",
    "x.reshape(20, 6).shape"
   ]
  },
  {
   "cell_type": "markdown",
   "metadata": {},
   "source": [
    "# 9. Concatenate two tensors of shape (3, 4) along:\n",
    "The first dimension\n",
    "The second dimension"
   ]
  },
  {
   "cell_type": "code",
   "execution_count": 24,
   "metadata": {},
   "outputs": [
    {
     "data": {
      "text/plain": [
       "(tensor([[0.1792, 0.1917, 0.9878, 0.8619],\n",
       "         [0.8051, 0.9617, 0.1398, 0.2457],\n",
       "         [0.2861, 0.3415, 0.8836, 0.3609]]),\n",
       " tensor([[0.2154, 0.7540, 0.5638, 0.3283],\n",
       "         [0.2195, 0.7004, 0.9558, 0.7102],\n",
       "         [0.6117, 0.4243, 0.2084, 0.2956]]))"
      ]
     },
     "execution_count": 24,
     "metadata": {},
     "output_type": "execute_result"
    }
   ],
   "source": [
    "x1 = torch.rand(3, 4)\n",
    "x2 = torch.rand(3, 4)\n",
    "\n",
    "x1 , x2"
   ]
  },
  {
   "cell_type": "code",
   "execution_count": 26,
   "metadata": {},
   "outputs": [
    {
     "data": {
      "text/plain": [
       "tensor([[0.1792, 0.1917, 0.9878, 0.8619],\n",
       "        [0.8051, 0.9617, 0.1398, 0.2457],\n",
       "        [0.2861, 0.3415, 0.8836, 0.3609],\n",
       "        [0.2154, 0.7540, 0.5638, 0.3283],\n",
       "        [0.2195, 0.7004, 0.9558, 0.7102],\n",
       "        [0.6117, 0.4243, 0.2084, 0.2956]])"
      ]
     },
     "execution_count": 26,
     "metadata": {},
     "output_type": "execute_result"
    }
   ],
   "source": [
    "torch.cat((x1, x2), dim=0)"
   ]
  },
  {
   "cell_type": "code",
   "execution_count": 27,
   "metadata": {},
   "outputs": [
    {
     "data": {
      "text/plain": [
       "tensor([[0.1792, 0.1917, 0.9878, 0.8619, 0.2154, 0.7540, 0.5638, 0.3283],\n",
       "        [0.8051, 0.9617, 0.1398, 0.2457, 0.2195, 0.7004, 0.9558, 0.7102],\n",
       "        [0.2861, 0.3415, 0.8836, 0.3609, 0.6117, 0.4243, 0.2084, 0.2956]])"
      ]
     },
     "execution_count": 27,
     "metadata": {},
     "output_type": "execute_result"
    }
   ],
   "source": [
    "torch.cat((x1, x2), dim=1)"
   ]
  },
  {
   "cell_type": "markdown",
   "metadata": {},
   "source": [
    "# 10. Stack two tensors of shape (2, 3) along a new dimension. What will be the shape?"
   ]
  },
  {
   "cell_type": "code",
   "execution_count": 32,
   "metadata": {},
   "outputs": [
    {
     "data": {
      "text/plain": [
       "(tensor([[0.2621, 0.8349, 0.3254],\n",
       "         [0.0773, 0.3703, 0.2239]]),\n",
       " tensor([[0.9935, 0.3075, 0.2297],\n",
       "         [0.8294, 0.6323, 0.5691]]))"
      ]
     },
     "execution_count": 32,
     "metadata": {},
     "output_type": "execute_result"
    }
   ],
   "source": [
    "x1 = torch.rand(2,3)\n",
    "x2 = torch.rand(2,3)\n",
    "x1, x2"
   ]
  },
  {
   "cell_type": "code",
   "execution_count": null,
   "metadata": {},
   "outputs": [
    {
     "data": {
      "text/plain": [
       "tensor([[[0.2621, 0.8349, 0.3254],\n",
       "         [0.0773, 0.3703, 0.2239]],\n",
       "\n",
       "        [[0.9935, 0.3075, 0.2297],\n",
       "         [0.8294, 0.6323, 0.5691]]])"
      ]
     },
     "execution_count": 33,
     "metadata": {},
     "output_type": "execute_result"
    }
   ],
   "source": [
    "torch.stack((x1, x2), dim=0)"
   ]
  },
  {
   "cell_type": "code",
   "execution_count": 34,
   "metadata": {},
   "outputs": [
    {
     "data": {
      "text/plain": [
       "torch.Size([2, 2, 3])"
      ]
     },
     "execution_count": 34,
     "metadata": {},
     "output_type": "execute_result"
    }
   ],
   "source": [
    "torch.stack((x1, x2), dim=0).shape"
   ]
  },
  {
   "cell_type": "markdown",
   "metadata": {},
   "source": [
    "# 11. Expand a tensor of shape (4, 1) into (4, 10) without copying memory."
   ]
  },
  {
   "cell_type": "code",
   "execution_count": 36,
   "metadata": {},
   "outputs": [
    {
     "data": {
      "text/plain": [
       "tensor([[0.4241],\n",
       "        [0.8177],\n",
       "        [0.8600],\n",
       "        [0.6294]])"
      ]
     },
     "execution_count": 36,
     "metadata": {},
     "output_type": "execute_result"
    }
   ],
   "source": [
    "x = torch.rand(4,1)\n",
    "\n",
    "x"
   ]
  },
  {
   "cell_type": "code",
   "execution_count": 39,
   "metadata": {},
   "outputs": [
    {
     "data": {
      "text/plain": [
       "tensor([[0.4241, 0.4241, 0.4241, 0.4241, 0.4241, 0.4241, 0.4241, 0.4241, 0.4241,\n",
       "         0.4241],\n",
       "        [0.8177, 0.8177, 0.8177, 0.8177, 0.8177, 0.8177, 0.8177, 0.8177, 0.8177,\n",
       "         0.8177],\n",
       "        [0.8600, 0.8600, 0.8600, 0.8600, 0.8600, 0.8600, 0.8600, 0.8600, 0.8600,\n",
       "         0.8600],\n",
       "        [0.6294, 0.6294, 0.6294, 0.6294, 0.6294, 0.6294, 0.6294, 0.6294, 0.6294,\n",
       "         0.6294]])"
      ]
     },
     "execution_count": 39,
     "metadata": {},
     "output_type": "execute_result"
    }
   ],
   "source": [
    "x.expand(4, 10)"
   ]
  },
  {
   "cell_type": "markdown",
   "metadata": {},
   "source": [
    "# 12. Given A of shape (4, 5, 6), reshape it into (4, 30), then reshape it back to (4, 5, 6)"
   ]
  },
  {
   "cell_type": "code",
   "execution_count": 41,
   "metadata": {},
   "outputs": [
    {
     "data": {
      "text/plain": [
       "torch.Size([4, 30])"
      ]
     },
     "execution_count": 41,
     "metadata": {},
     "output_type": "execute_result"
    }
   ],
   "source": [
    "x = torch.rand(4, 5, 6)\n",
    "\n",
    "x.view(4, -1).shape"
   ]
  },
  {
   "cell_type": "code",
   "execution_count": 42,
   "metadata": {},
   "outputs": [
    {
     "data": {
      "text/plain": [
       "torch.Size([4, 5, 6])"
      ]
     },
     "execution_count": 42,
     "metadata": {},
     "output_type": "execute_result"
    }
   ],
   "source": [
    "x.view(4, -1).view(4, 5, 6).shape"
   ]
  },
  {
   "cell_type": "code",
   "execution_count": 43,
   "metadata": {},
   "outputs": [
    {
     "data": {
      "text/plain": [
       "tensor([[[True, True, True, True, True, True],\n",
       "         [True, True, True, True, True, True],\n",
       "         [True, True, True, True, True, True],\n",
       "         [True, True, True, True, True, True],\n",
       "         [True, True, True, True, True, True]],\n",
       "\n",
       "        [[True, True, True, True, True, True],\n",
       "         [True, True, True, True, True, True],\n",
       "         [True, True, True, True, True, True],\n",
       "         [True, True, True, True, True, True],\n",
       "         [True, True, True, True, True, True]],\n",
       "\n",
       "        [[True, True, True, True, True, True],\n",
       "         [True, True, True, True, True, True],\n",
       "         [True, True, True, True, True, True],\n",
       "         [True, True, True, True, True, True],\n",
       "         [True, True, True, True, True, True]],\n",
       "\n",
       "        [[True, True, True, True, True, True],\n",
       "         [True, True, True, True, True, True],\n",
       "         [True, True, True, True, True, True],\n",
       "         [True, True, True, True, True, True],\n",
       "         [True, True, True, True, True, True]]])"
      ]
     },
     "execution_count": 43,
     "metadata": {},
     "output_type": "execute_result"
    }
   ],
   "source": [
    "x == x.view(4, -1).view(4, 5, 6)"
   ]
  },
  {
   "cell_type": "markdown",
   "metadata": {},
   "source": [
    "# 13. Given two tensors:\n",
    "A of shape (3, 1, 4)\n",
    "B of shape (1, 2, 4)\n",
    "What will be their broadcasted shape when added together?"
   ]
  },
  {
   "cell_type": "code",
   "execution_count": 48,
   "metadata": {},
   "outputs": [
    {
     "data": {
      "text/plain": [
       "(tensor([[[0.8823, 0.9150, 0.3829, 0.9593]],\n",
       " \n",
       "         [[0.3904, 0.6009, 0.2566, 0.7936]],\n",
       " \n",
       "         [[0.9408, 0.1332, 0.9346, 0.5936]]]),\n",
       " tensor([[[0.8694, 0.5677, 0.7411, 0.4294],\n",
       "          [0.8854, 0.5739, 0.2666, 0.6274]]]))"
      ]
     },
     "execution_count": 48,
     "metadata": {},
     "output_type": "execute_result"
    }
   ],
   "source": [
    "torch.manual_seed(42)\n",
    "\n",
    "a = torch.rand(3,1,4)\n",
    "b = torch.rand(1,2,4)\n",
    "\n",
    "a , b"
   ]
  },
  {
   "cell_type": "code",
   "execution_count": 50,
   "metadata": {},
   "outputs": [
    {
     "data": {
      "text/plain": [
       "torch.Size([3, 2, 4])"
      ]
     },
     "execution_count": 50,
     "metadata": {},
     "output_type": "execute_result"
    }
   ],
   "source": [
    "(a + b).shape"
   ]
  },
  {
   "cell_type": "code",
   "execution_count": 51,
   "metadata": {},
   "outputs": [
    {
     "data": {
      "text/plain": [
       "tensor([[[1.7517, 1.4827, 1.1240, 1.3887],\n",
       "         [1.7677, 1.4889, 0.6494, 1.5868]],\n",
       "\n",
       "        [[1.2599, 1.1686, 0.9977, 1.2230],\n",
       "         [1.2759, 1.1748, 0.5232, 1.4211]],\n",
       "\n",
       "        [[1.8102, 0.7009, 1.6757, 1.0230],\n",
       "         [1.8262, 0.7071, 1.2012, 1.2210]]])"
      ]
     },
     "execution_count": 51,
     "metadata": {},
     "output_type": "execute_result"
    }
   ],
   "source": [
    "a + b"
   ]
  },
  {
   "cell_type": "code",
   "execution_count": 54,
   "metadata": {},
   "outputs": [
    {
     "data": {
      "text/plain": [
       "1.4827"
      ]
     },
     "execution_count": 54,
     "metadata": {},
     "output_type": "execute_result"
    }
   ],
   "source": [
    "0.9150 + 0.5677"
   ]
  },
  {
   "cell_type": "code",
   "execution_count": 55,
   "metadata": {},
   "outputs": [
    {
     "data": {
      "text/plain": [
       "1.4889000000000001"
      ]
     },
     "execution_count": 55,
     "metadata": {},
     "output_type": "execute_result"
    }
   ],
   "source": [
    "0.9150 + 0.5739"
   ]
  },
  {
   "cell_type": "code",
   "execution_count": 56,
   "metadata": {},
   "outputs": [
    {
     "data": {
      "text/plain": [
       "tensor([[[ 0,  1,  2,  3]],\n",
       "\n",
       "        [[ 4,  5,  6,  7]],\n",
       "\n",
       "        [[ 8,  9, 10, 11]]])"
      ]
     },
     "execution_count": 56,
     "metadata": {},
     "output_type": "execute_result"
    }
   ],
   "source": [
    "a = torch.arange(12).reshape(3,1,4)\n",
    "a"
   ]
  },
  {
   "cell_type": "code",
   "execution_count": 60,
   "metadata": {},
   "outputs": [
    {
     "data": {
      "text/plain": [
       "tensor([[[0, 1, 2, 3],\n",
       "         [4, 5, 6, 7]]])"
      ]
     },
     "execution_count": 60,
     "metadata": {},
     "output_type": "execute_result"
    }
   ],
   "source": [
    "b = torch.arange(8).reshape(1,2,4)\n",
    "b"
   ]
  },
  {
   "cell_type": "code",
   "execution_count": 61,
   "metadata": {},
   "outputs": [
    {
     "data": {
      "text/plain": [
       "tensor([[[ 0,  2,  4,  6],\n",
       "         [ 4,  6,  8, 10]],\n",
       "\n",
       "        [[ 4,  6,  8, 10],\n",
       "         [ 8, 10, 12, 14]],\n",
       "\n",
       "        [[ 8, 10, 12, 14],\n",
       "         [12, 14, 16, 18]]])"
      ]
     },
     "execution_count": 61,
     "metadata": {},
     "output_type": "execute_result"
    }
   ],
   "source": [
    "a + b"
   ]
  },
  {
   "cell_type": "code",
   "execution_count": 62,
   "metadata": {},
   "outputs": [
    {
     "data": {
      "text/plain": [
       "tensor([[[ 0,  2,  4,  6],\n",
       "         [ 4,  6,  8, 10]],\n",
       "\n",
       "        [[ 4,  6,  8, 10],\n",
       "         [ 8, 10, 12, 14]],\n",
       "\n",
       "        [[ 8, 10, 12, 14],\n",
       "         [12, 14, 16, 18]]])"
      ]
     },
     "execution_count": 62,
     "metadata": {},
     "output_type": "execute_result"
    }
   ],
   "source": [
    "a = torch.arange(12).view(3,1,4)\n",
    "b = torch.arange(8).view(1,2,4)\n",
    "\n",
    "a + b"
   ]
  },
  {
   "cell_type": "markdown",
   "metadata": {},
   "source": [
    "# 14. Perform element-wise addition on tensors of shape (2, 1, 5) and (1, 3, 5). What will be the resulting shape?"
   ]
  },
  {
   "cell_type": "code",
   "execution_count": 63,
   "metadata": {},
   "outputs": [
    {
     "data": {
      "text/plain": [
       "(tensor([[[0, 1, 2, 3, 4]],\n",
       " \n",
       "         [[5, 6, 7, 8, 9]]]),\n",
       " tensor([[[ 0,  1,  2,  3,  4],\n",
       "          [ 5,  6,  7,  8,  9],\n",
       "          [10, 11, 12, 13, 14]]]))"
      ]
     },
     "execution_count": 63,
     "metadata": {},
     "output_type": "execute_result"
    }
   ],
   "source": [
    "a = torch.arange(10).reshape(2,1,5)\n",
    "b = torch.arange(15).reshape(1,3,5)\n",
    "\n",
    "a, b"
   ]
  },
  {
   "cell_type": "code",
   "execution_count": null,
   "metadata": {},
   "outputs": [
    {
     "data": {
      "text/plain": [
       "tensor([[[ 0,  2,  4,  6,  8],\n",
       "         [ 5,  7,  9, 11, 13],\n",
       "         [10, 12, 14, 16, 18]],\n",
       "\n",
       "        [[ 5,  7,  9, 11, 13],\n",
       "         [10, 12, 14, 16, 18],\n",
       "         [15, 17, 19, 21, 23]]])"
      ]
     },
     "execution_count": 64,
     "metadata": {},
     "output_type": "execute_result"
    }
   ],
   "source": [
    "# Perform element-wise addition\n",
    "(a + b)\n"
   ]
  },
  {
   "cell_type": "code",
   "execution_count": 65,
   "metadata": {},
   "outputs": [
    {
     "data": {
      "text/plain": [
       "torch.Size([2, 3, 5])"
      ]
     },
     "execution_count": 65,
     "metadata": {},
     "output_type": "execute_result"
    }
   ],
   "source": [
    "(a + b).shape"
   ]
  },
  {
   "cell_type": "markdown",
   "metadata": {},
   "source": [
    "# Compute the matrix multiplication of tensors with shapes:\n",
    "(3, 4) and (4, 5)\n",
    "\n",
    "(10, 3, 4) and (10, 4, 5) (Batch matrix multiplication)"
   ]
  },
  {
   "cell_type": "code",
   "execution_count": 66,
   "metadata": {},
   "outputs": [
    {
     "data": {
      "text/plain": [
       "tensor([[ 70,  76,  82,  88,  94],\n",
       "        [190, 212, 234, 256, 278],\n",
       "        [310, 348, 386, 424, 462]])"
      ]
     },
     "execution_count": 66,
     "metadata": {},
     "output_type": "execute_result"
    }
   ],
   "source": [
    "a = torch.arange(12).view(3,4)\n",
    "b = torch.arange(20).view(4,5)\n",
    "\n",
    "torch.matmul(a, b)"
   ]
  },
  {
   "cell_type": "code",
   "execution_count": 67,
   "metadata": {},
   "outputs": [
    {
     "data": {
      "text/plain": [
       "torch.Size([10, 3, 5])"
      ]
     },
     "execution_count": 67,
     "metadata": {},
     "output_type": "execute_result"
    }
   ],
   "source": [
    "a = torch.rand(10, 3, 4)\n",
    "b = torch.rand(10, 4, 5)\n",
    "\n",
    "a.matmul(b).shape"
   ]
  },
  {
   "cell_type": "code",
   "execution_count": 68,
   "metadata": {},
   "outputs": [
    {
     "data": {
      "text/plain": [
       "tensor([[[0.7505, 1.0815, 1.3279, 1.0459, 0.6319],\n",
       "         [0.4871, 0.4690, 0.6297, 0.4487, 0.4601],\n",
       "         [0.9894, 0.3826, 0.9568, 0.2482, 1.1534]],\n",
       "\n",
       "        [[1.4429, 0.9614, 1.8539, 1.2525, 0.8554],\n",
       "         [1.1853, 0.9048, 1.8307, 1.0972, 0.7413],\n",
       "         [1.2469, 0.9435, 1.8922, 1.3644, 0.7120]],\n",
       "\n",
       "        [[1.2542, 1.3675, 1.5055, 1.4562, 1.4888],\n",
       "         [0.7346, 0.8632, 0.6742, 0.5095, 0.8805],\n",
       "         [1.3056, 1.2984, 1.3042, 1.4094, 1.3352]],\n",
       "\n",
       "        [[0.9999, 1.0372, 0.7371, 0.9028, 1.0614],\n",
       "         [0.9140, 0.8642, 0.6572, 0.7849, 0.7356],\n",
       "         [1.0578, 1.0680, 0.7508, 0.9135, 1.0233]],\n",
       "\n",
       "        [[0.7109, 1.5109, 0.9754, 1.0334, 0.7470],\n",
       "         [0.3145, 0.9828, 0.3431, 0.4170, 0.0097],\n",
       "         [1.2526, 1.8049, 1.1360, 0.8625, 0.5520]],\n",
       "\n",
       "        [[0.4610, 0.4234, 0.5629, 0.5282, 0.7097],\n",
       "         [0.8923, 0.4622, 0.9154, 0.5908, 0.9907],\n",
       "         [0.4858, 0.5473, 0.8393, 0.7178, 1.1099]],\n",
       "\n",
       "        [[1.6891, 0.4750, 1.3568, 0.8347, 0.7506],\n",
       "         [1.3873, 0.2565, 1.2592, 0.6747, 0.9980],\n",
       "         [1.1625, 0.3071, 0.9294, 0.7826, 0.6206]],\n",
       "\n",
       "        [[0.3361, 0.1690, 0.4850, 0.3515, 0.3461],\n",
       "         [0.6631, 0.4190, 0.5163, 0.3945, 0.9818],\n",
       "         [0.4155, 0.2422, 0.4912, 0.3106, 0.4381]],\n",
       "\n",
       "        [[0.7552, 0.6212, 0.4458, 0.4540, 0.4848],\n",
       "         [1.0987, 0.7662, 0.5540, 0.6264, 0.7673],\n",
       "         [0.6567, 0.4524, 0.3097, 0.3832, 0.5113]],\n",
       "\n",
       "        [[1.0428, 1.2588, 1.3992, 1.0091, 1.3082],\n",
       "         [0.4385, 0.5111, 0.3437, 0.2732, 0.7412],\n",
       "         [0.6018, 0.5809, 0.4401, 0.2331, 0.6723]]])"
      ]
     },
     "execution_count": 68,
     "metadata": {},
     "output_type": "execute_result"
    }
   ],
   "source": [
    "a.matmul(b)"
   ]
  },
  {
   "cell_type": "code",
   "execution_count": null,
   "metadata": {},
   "outputs": [],
   "source": []
  }
 ],
 "metadata": {
  "kernelspec": {
   "display_name": ".venv",
   "language": "python",
   "name": "python3"
  },
  "language_info": {
   "codemirror_mode": {
    "name": "ipython",
    "version": 3
   },
   "file_extension": ".py",
   "mimetype": "text/x-python",
   "name": "python",
   "nbconvert_exporter": "python",
   "pygments_lexer": "ipython3",
   "version": "3.12.3"
  }
 },
 "nbformat": 4,
 "nbformat_minor": 2
}
